{
  "metadata": {
    "language_info": {
      "codemirror_mode": {
        "name": "python",
        "version": 3
      },
      "file_extension": ".py",
      "mimetype": "text/x-python",
      "name": "python",
      "nbconvert_exporter": "python",
      "pygments_lexer": "ipython3",
      "version": "3.8"
    },
    "kernelspec": {
      "name": "python",
      "display_name": "Pyolite",
      "language": "python"
    }
  },
  "nbformat_minor": 4,
  "nbformat": 4,
  "cells": [
    {
      "cell_type": "markdown",
      "source": "<a href=\"https://dataplatform.cloud.ibm.com/gallery\">IBM Cloud Gallery</a>",
      "metadata": {}
    },
    {
      "cell_type": "markdown",
      "source": "<a href=\"https://dataplatform.cloud.ibm.com/gallery\">BlackTyn's Gallery</a>",
      "metadata": {}
    },
    {
      "cell_type": "markdown",
      "source": "# Header 1",
      "metadata": {}
    },
    {
      "cell_type": "markdown",
      "source": "## H2",
      "metadata": {}
    },
    {
      "cell_type": "markdown",
      "source": "### Thomas Oppong",
      "metadata": {}
    },
    {
      "cell_type": "markdown",
      "source": "##### I am 25 years old.",
      "metadata": {}
    },
    {
      "cell_type": "markdown",
      "source": "*Thomas* _Veronica_ **Thomas** __Veronica__",
      "metadata": {}
    },
    {
      "cell_type": "markdown",
      "source": "[to read more](https://mail.google.com/mail/u/0/#sent)",
      "metadata": {}
    },
    {
      "cell_type": "markdown",
      "source": "[using numbers as references][1]",
      "metadata": {}
    },
    {
      "cell_type": "markdown",
      "source": "[https://mail.google.com/mail/u/0/#sent]",
      "metadata": {}
    },
    {
      "cell_type": "markdown",
      "source": "|header|header|\n|------|------|\n|cell|cell|",
      "metadata": {}
    },
    {
      "cell_type": "markdown",
      "source": "|NAME|AGE|CLASS|\n|----|:---:|-----:|\n|Agnes|14|JHS2|\n|Vero|13|JHS1|\n|Ama|16|JHS3|\n",
      "metadata": {
        "tags": []
      }
    },
    {
      "cell_type": "markdown",
      "source": "[Check this out](https://github.com/adam-p/markdown-here/raw/master/src/common/images/icon48.png \"Logo Title Text 1\")",
      "metadata": {
        "tags": []
      }
    },
    {
      "cell_type": "markdown",
      "source": "hello `everyone` my name is **Thomas Oppong**.",
      "metadata": {}
    },
    {
      "cell_type": "code",
      "source": "",
      "metadata": {},
      "execution_count": null,
      "outputs": []
    }
  ]
}